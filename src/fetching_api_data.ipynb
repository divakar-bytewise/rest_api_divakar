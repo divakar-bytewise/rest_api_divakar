{
 "cells": [
  {
   "cell_type": "code",
   "execution_count": 0,
   "metadata": {
    "application/vnd.databricks.v1+cell": {
     "cellMetadata": {
      "byteLimit": 2048000,
      "rowLimit": 10000
     },
     "inputWidgets": {},
     "nuid": "95f108c0-ab67-4d4a-a06e-90a1f9434a0e",
     "showTitle": false,
     "tableResultSettingsMap": {},
     "title": ""
    }
   },
   "outputs": [],
   "source": [
    "import requests\n",
    "from pyspark.sql.types import *\n",
    "from pyspark.sql.functions import col, coalesce\n",
    "\n",
    "api_url = \"https://api.restful-api.dev/objects\"\n",
    "response = requests.get(api_url)\n",
    "data = response.json()\n",
    "\n",
    "schema = StructType([\n",
    "    StructField(\"id\", StringType(), True),\n",
    "    StructField(\"name\", StringType(), True),\n",
    "    StructField(\"data\", StructType([\n",
    "        StructField(\"color_lower\", StringType(), True),  \n",
    "        StructField(\"capacity\", StringType(), True),\n",
    "        StructField(\"capacity_gb\", StringType(), True),   \n",
    "        StructField(\"price\", DoubleType(), True),\n",
    "        StructField(\"generation\", StringType(), True),\n",
    "        StructField(\"year\", IntegerType(), True),\n",
    "        StructField(\"cpu_model\", StringType(), True),     \n",
    "        StructField(\"hard_disk_size\", StringType(), True),\n",
    "        StructField(\"strap_colour\", StringType(), True),  \n",
    "        StructField(\"case_size\", StringType(), True),     \n",
    "        StructField(\"color_upper\", StringType(), True),   \n",
    "        StructField(\"description\", StringType(), True),\n",
    "        StructField(\"capacity_alt\", StringType(), True),  \n",
    "        StructField(\"screen_size\", DoubleType(), True),   \n",
    "        StructField(\"generation_alt\", StringType(), True),\n",
    "        StructField(\"price_alt\", StringType(), True)      \n",
    "    ]), True)\n",
    "])\n",
    "\n",
    "\n",
    "df = spark.createDataFrame(data, schema=schema)\n",
    "\n",
    "flat_df = df.select(\n",
    "    \"id\",\n",
    "    \"name\",\n",
    "    \"data.*\"\n",
    ").withColumn(\"final_color\", coalesce(col(\"color_lower\"), col(\"color_upper\")))\n",
    "\n",
    "flat_df.write.format(\"delta\").mode(\"overwrite\").saveAsTable(\"flattened_api_objects\")\n",
    "\n",
    "display(spark.table(\"flattened_api_objects\"))\n"
   ]
  }
 ],
 "metadata": {
  "application/vnd.databricks.v1+notebook": {
   "computePreferences": {
    "hardware": {
     "accelerator": null,
     "gpuPoolId": null,
     "memory": null
    }
   },
   "dashboards": [],
   "environmentMetadata": {
    "base_environment": "",
    "environment_version": "3"
   },
   "inputWidgetPreferences": null,
   "language": "python",
   "notebookMetadata": {
    "pythonIndentUnit": 4
   },
   "notebookName": "fetching_api_data",
   "widgets": {}
  },
  "language_info": {
   "name": "python"
  }
 },
 "nbformat": 4,
 "nbformat_minor": 0
}
